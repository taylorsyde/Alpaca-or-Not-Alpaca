{
 "cells": [
  {
   "cell_type": "markdown",
   "id": "236af5ab",
   "metadata": {},
   "source": [
    "[Example]('https://serpapi.com/blog/scrape-google-images-with-python/')"
   ]
  },
  {
   "cell_type": "code",
   "execution_count": 19,
   "id": "ffeadfe8",
   "metadata": {},
   "outputs": [],
   "source": [
    "import os, requests, lxml, re, json, urllib.request\n",
    "from bs4 import BeautifulSoup\n",
    "from serpapi import GoogleSearch\n",
    "key = ''"
   ]
  },
  {
   "cell_type": "code",
   "execution_count": null,
   "id": "facc6be6",
   "metadata": {},
   "outputs": [],
   "source": []
  },
  {
   "cell_type": "code",
   "execution_count": 10,
   "id": "03954224",
   "metadata": {},
   "outputs": [],
   "source": [
    "# search query parameters\n",
    "params = {\n",
    "    \"engine\": \"google\",               # search engine. Google, Bing, Yahoo, Naver, Baidu...\n",
    "    \"q\": 'gudetama',                  # search query\n",
    "    \"tbm\": \"isch\",                    # image results\n",
    "    \"num\": \"100\",                     # number of images per page\n",
    "    \"ijn\": 0,                         # page number: 0 -> first page, 1 -> second...\n",
    "    \"api_key\": key   # your serpapi api key\n",
    "    # other query parameters: hl (lang), gl (country), etc  \n",
    "}"
   ]
  },
  {
   "cell_type": "code",
   "execution_count": 12,
   "id": "81be7e39",
   "metadata": {},
   "outputs": [
    {
     "data": {
      "text/plain": [
       "<serpapi.google_search.GoogleSearch at 0x26a95836d30>"
      ]
     },
     "execution_count": 12,
     "metadata": {},
     "output_type": "execute_result"
    }
   ],
   "source": [
    "search = GoogleSearch(params)         # where data extraction happens\n",
    "search"
   ]
  },
  {
   "cell_type": "code",
   "execution_count": 20,
   "id": "61eaf521",
   "metadata": {},
   "outputs": [],
   "source": [
    "def serpapi_get_google_images():\n",
    "    image_results = []\n",
    "    \n",
    "    # search query parameters\n",
    "    params = {\n",
    "        \"engine\": \"google\",               # search engine. Google, Bing, Yahoo, Naver, Baidu...\n",
    "        \"q\": 'cooked eggs',               # search query\n",
    "        \"tbm\": \"isch\",                    # image results\n",
    "        \"num\": \"100\",                     # number of images per page\n",
    "        \"ijn\": 0,                         # page number: 0 -> first page, 1 -> second...\n",
    "        \"api_key\": ''   # your serpapi api key\n",
    "        # other query parameters: hl (lang), gl (country), etc  \n",
    "    }\n",
    "\n",
    "    search = GoogleSearch(params)         # where data extraction happens\n",
    "\n",
    "    images_is_present = True\n",
    "    while images_is_present:\n",
    "        results = search.get_dict()       # JSON -> Python dictionary\n",
    "\n",
    "        # checks for \"Google hasn't returned any results for this query.\"\n",
    "        if \"error\" not in results:\n",
    "            for image in results[\"images_results\"]:\n",
    "                if image[\"original\"] not in image_results:\n",
    "                    image_results.append(image[\"original\"])\n",
    "\n",
    "            # update to the next page\n",
    "            params[\"ijn\"] += 1\n",
    "        else:\n",
    "            images_is_present = False\n",
    "            print(results[\"error\"])\n",
    "    \n",
    "    # -----------------------\n",
    "    # Downloading images\n",
    "\n",
    "    for index, image in enumerate(results[\"images_results\"], start=1):\n",
    "        print(f\"Downloading {index} image...\")\n",
    "        \n",
    "        opener=urllib.request.build_opener()\n",
    "        opener.addheaders=[(\"User-Agent\",\"Mozilla/5.0 (Windows NT 10.0; Win64; x64) AppleWebKit/537.36 (KHTML, like Gecko) Chrome/103.0.5060.114 Safari/537.36\")]\n",
    "        urllib.request.install_opener(opener)\n",
    "\n",
    "        urllib.request.urlretrieve(image[\"original\"], f\"SerpApi_Images/original_size_img_{index}.jpg\")\n",
    "\n",
    "    print(json.dumps(image_results, indent=2))\n",
    "    print(len(image_results))"
   ]
  }
 ],
 "metadata": {
  "kernelspec": {
   "display_name": "Python 3",
   "language": "python",
   "name": "python3"
  },
  "language_info": {
   "codemirror_mode": {
    "name": "ipython",
    "version": 3
   },
   "file_extension": ".py",
   "mimetype": "text/x-python",
   "name": "python",
   "nbconvert_exporter": "python",
   "pygments_lexer": "ipython3",
   "version": "3.8.8"
  }
 },
 "nbformat": 4,
 "nbformat_minor": 5
}
